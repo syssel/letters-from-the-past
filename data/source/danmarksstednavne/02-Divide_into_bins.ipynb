{
 "cells": [
  {
   "cell_type": "code",
   "execution_count": null,
   "metadata": {},
   "outputs": [],
   "source": [
    "import pandas as pd"
   ]
  },
  {
   "cell_type": "code",
   "execution_count": null,
   "metadata": {},
   "outputs": [],
   "source": [
    "config = {\n",
    "    \"delimiter\":\"\\t\",\n",
    "    \"header\": 0,\n",
    "    \"dtype\":{0:str, 1:int, 3:str, 4:str, 5:str}\n",
    "}"
   ]
  },
  {
   "cell_type": "code",
   "execution_count": null,
   "metadata": {},
   "outputs": [],
   "source": [
    "opslagsformer = pd.read_csv(\"danmarksstednavne.csv\", **config)"
   ]
  },
  {
   "cell_type": "code",
   "execution_count": null,
   "metadata": {},
   "outputs": [],
   "source": [
    "opslagsformer"
   ]
  },
  {
   "cell_type": "code",
   "execution_count": null,
   "metadata": {},
   "outputs": [],
   "source": [
    "opslag_pre_1800 = opslagsformer[opslagsformer.date_from<1800]"
   ]
  },
  {
   "cell_type": "code",
   "execution_count": null,
   "metadata": {},
   "outputs": [],
   "source": [
    "opslag_pre_1800.describe()"
   ]
  },
  {
   "cell_type": "code",
   "execution_count": null,
   "metadata": {},
   "outputs": [],
   "source": [
    "import regex\n",
    "def prepare_to_lm(row, col):\n",
    "    name = \" \".join(row[col].replace(\" \", \"#\").split(\";\")).lower()\n",
    "    name = regex.sub(r\"\\{( \\/)? i \\}\", \"\", name)\n",
    "    name = regex.sub(r\"\\p{Ps}|\\p{Pe}\", \"\", name)\n",
    "    name = \" \".join(name.split())\n",
    "    return name"
   ]
  },
  {
   "cell_type": "code",
   "execution_count": null,
   "metadata": {},
   "outputs": [],
   "source": [
    "v = \"{i}tester{/i} br(a)g{th} [igen]\"\n",
    "row = {\n",
    "    \"test\": \";\".join(list(v))\n",
    "}\n",
    "prepare_to_lm(row, \"test\")"
   ]
  },
  {
   "cell_type": "code",
   "execution_count": null,
   "metadata": {},
   "outputs": [],
   "source": [
    "opslag_pre_1800[\"lmdata\"] = opslag_pre_1800.apply(lambda row: prepare_to_lm(row, \"normalised\"), axis=1)"
   ]
  },
  {
   "cell_type": "code",
   "execution_count": null,
   "metadata": {},
   "outputs": [],
   "source": [
    "opslag_pre_1800"
   ]
  },
  {
   "cell_type": "code",
   "execution_count": null,
   "metadata": {},
   "outputs": [],
   "source": [
    "import numpy as np"
   ]
  },
  {
   "cell_type": "code",
   "execution_count": null,
   "metadata": {},
   "outputs": [],
   "source": [
    "bins = np.arange(1300, 1801, step=50)\n",
    "bins = np.insert(bins, 0, 0)\n",
    "bins"
   ]
  },
  {
   "cell_type": "code",
   "execution_count": null,
   "metadata": {},
   "outputs": [],
   "source": []
  },
  {
   "cell_type": "code",
   "execution_count": null,
   "metadata": {},
   "outputs": [],
   "source": [
    "opslag_pre_1800[\"label\"] = np.digitize(opslag_pre_1800.date_from, bins)"
   ]
  },
  {
   "cell_type": "code",
   "execution_count": null,
   "metadata": {},
   "outputs": [],
   "source": [
    "from collections import Counter"
   ]
  },
  {
   "cell_type": "code",
   "execution_count": null,
   "metadata": {},
   "outputs": [],
   "source": [
    "for binx, count in sorted(Counter(opslag_pre_1800[\"label\"]).items()):\n",
    "    print(binx, \"{}-{}\".format(bins[binx-1], bins[binx]), count)"
   ]
  },
  {
   "cell_type": "code",
   "execution_count": null,
   "metadata": {},
   "outputs": [],
   "source": [
    "from sklearn.model_selection import train_test_split"
   ]
  },
  {
   "cell_type": "code",
   "execution_count": null,
   "metadata": {},
   "outputs": [],
   "source": [
    "import os"
   ]
  },
  {
   "cell_type": "code",
   "execution_count": null,
   "metadata": {},
   "outputs": [],
   "source": [
    "main_dir = \"data/experiment/danmarksstednavne\""
   ]
  },
  {
   "cell_type": "code",
   "execution_count": null,
   "metadata": {},
   "outputs": [],
   "source": [
    "for label in set(opslag_pre_1800[\"label\"]):\n",
    "    os.makedirs(main_dir+\"/epoch_{}\".format(label))"
   ]
  },
  {
   "cell_type": "code",
   "execution_count": null,
   "metadata": {},
   "outputs": [],
   "source": [
    "for label in set(opslag_pre_1800[\"label\"]):\n",
    "    f = open(main_dir+\"/epoch_{}/train.txt\".format(label), \"w\")\n",
    "    f.close()\n",
    "    f = open(main_dir+\"/epoch_{}/valid.txt\".format(label), \"w\")\n",
    "    f.close()\n",
    "    f = open(main_dir+\"/epoch_{}/test.txt\".format(label), \"w\")\n",
    "    f.close()    \n",
    "    \n",
    "    items = opslag_pre_1800[opslag_pre_1800[\"label\"]==label]\n",
    "    train, dev = train_test_split(items, test_size=0.1, random_state=42)\n",
    "    \n",
    "    \n",
    "    for index, row in train.iterrows():\n",
    "        f = open(main_dir+\"/epoch_{}/train.txt\".format(label), \"a\")\n",
    "        f.write(row.lmdata+\"\\n\")\n",
    "        f.close()\n",
    "    \n",
    "    for index, row in dev.iterrows():\n",
    "        f = open(main_dir+\"/epoch_{}/valid.txt\".format(label), \"a\")\n",
    "\n",
    "        f.write(row.lmdata+\"\\n\")\n",
    "        f.close()\n",
    "        \n",
    "        f = open(main_dir+\"/epoch_{}/test.txt\".format(label), \"a\")\n",
    "        f.write(row.lmdata+\"\\n\")\n",
    "        f.close()"
   ]
  },
  {
   "cell_type": "markdown",
   "metadata": {},
   "source": [
    "## Randomized bins"
   ]
  },
  {
   "cell_type": "code",
   "execution_count": null,
   "metadata": {},
   "outputs": [],
   "source": [
    "from sklearn.model_selection import StratifiedKFold\n",
    "from collections import Counter\n",
    "import os"
   ]
  },
  {
   "cell_type": "code",
   "execution_count": null,
   "metadata": {},
   "outputs": [],
   "source": [
    "main_dir = main_dir+\"_control/\"\n",
    "main_dir"
   ]
  },
  {
   "cell_type": "code",
   "execution_count": null,
   "metadata": {},
   "outputs": [],
   "source": [
    "labels = set(opslag_pre_1800[\"label\"])"
   ]
  },
  {
   "cell_type": "code",
   "execution_count": null,
   "metadata": {},
   "outputs": [],
   "source": [
    "for label in labels:\n",
    "    os.makedirs(main_dir+\"/epoch_{}\".format(label))"
   ]
  },
  {
   "cell_type": "code",
   "execution_count": null,
   "metadata": {},
   "outputs": [],
   "source": [
    "n_groups = len(labels)\n",
    "splitter = StratifiedKFold(n_splits=n_groups, shuffle=True, random_state=42)"
   ]
  },
  {
   "cell_type": "code",
   "execution_count": null,
   "metadata": {},
   "outputs": [],
   "source": [
    "for label, (_, test_idx) in zip(labels, splitter.split(opslag_pre_1800[\"label\"], opslag_pre_1800[\"label\"])):\n",
    "    items = opslag_pre_1800.iloc[test_idx]\n",
    "    print(\"Generating random data for label <{}>\".format(label))\n",
    "    print(\"Number of data points: \", len(items))\n",
    "    print(\"Distribution: \")\n",
    "    print(Counter(items[\"label\"]))\n",
    "    \n",
    "    \n",
    "    train, dev = train_test_split(items, test_size=0.1, random_state=42)\n",
    "    \n",
    "    \n",
    "    for index, row in train.iterrows():\n",
    "        f = open(main_dir+\"/epoch_{}/train.txt\".format(label), \"a\")\n",
    "        f.write(row.lmdata+\"\\n\")\n",
    "        f.close()\n",
    "    \n",
    "    for index, row in dev.iterrows():\n",
    "        f = open(main_dir+\"/epoch_{}/valid.txt\".format(label), \"a\")\n",
    "\n",
    "        f.write(row.lmdata+\"\\n\")\n",
    "        f.close()\n",
    "        \n",
    "        f = open(main_dir+\"/epoch_{}/test.txt\".format(label), \"a\")\n",
    "        f.write(row.lmdata+\"\\n\")\n",
    "        f.close()    "
   ]
  },
  {
   "cell_type": "code",
   "execution_count": null,
   "metadata": {},
   "outputs": [],
   "source": []
  },
  {
   "cell_type": "code",
   "execution_count": null,
   "metadata": {},
   "outputs": [],
   "source": []
  }
 ],
 "metadata": {
  "kernelspec": {
   "display_name": "Python 3 (ipykernel)",
   "language": "python",
   "name": "python3"
  },
  "language_info": {
   "codemirror_mode": {
    "name": "ipython",
    "version": 3
   },
   "file_extension": ".py",
   "mimetype": "text/x-python",
   "name": "python",
   "nbconvert_exporter": "python",
   "pygments_lexer": "ipython3",
   "version": "3.9.7"
  }
 },
 "nbformat": 4,
 "nbformat_minor": 4
}
