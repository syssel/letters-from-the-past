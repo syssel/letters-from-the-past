{
 "cells": [
  {
   "cell_type": "code",
   "execution_count": null,
   "id": "caedd697",
   "metadata": {},
   "outputs": [],
   "source": [
    "import pandas as pd\n",
    "import os"
   ]
  },
  {
   "cell_type": "markdown",
   "id": "86dfe29a",
   "metadata": {},
   "source": [
    "## Load diachronic embedding spaces"
   ]
  },
  {
   "cell_type": "code",
   "execution_count": null,
   "id": "08253bce",
   "metadata": {},
   "outputs": [],
   "source": [
    "SOURCE_DIR = \"ppmi_embeddings\""
   ]
  },
  {
   "cell_type": "code",
   "execution_count": null,
   "id": "373b04e7",
   "metadata": {},
   "outputs": [],
   "source": [
    "def load_diachronic_embeddings(source_dir, name, n_epochs):\n",
    "    embedding_tables = []\n",
    "    \n",
    "    for i in range(1, n_epochs+1):\n",
    "        df = pd.read_csv(os.path.join(source_dir, name, name+\"_{}.emb\".format(i)), sep=',', header=0, index_col=\"CHAR\")\n",
    "        embedding_tables.append(df)\n",
    "        \n",
    "    assert all([list(df.index) == list(embedding_tables[0].index) and list(df.columns) == list(embedding_tables[0].columns) for df in embedding_tables])\n",
    "    \n",
    "    return [df.to_numpy() for df in embedding_tables], list(embedding_tables[0].index), list(embedding_tables[0].columns) \n",
    "        "
   ]
  },
  {
   "cell_type": "code",
   "execution_count": null,
   "id": "6368f45e",
   "metadata": {},
   "outputs": [],
   "source": [
    "parupa, parupa_vocab, parupa_dimensions = load_diachronic_embeddings(SOURCE_DIR, \"parupa\", 5)\n",
    "parupa_control, parupa_control_vocab, parupa_control_dimensions = load_diachronic_embeddings(SOURCE_DIR, \"parupa_control\", 5)"
   ]
  },
  {
   "cell_type": "code",
   "execution_count": null,
   "id": "50769d06",
   "metadata": {},
   "outputs": [],
   "source": [
    "UDDanish, UDDanish_vocab, UDDanish_dimensions = load_diachronic_embeddings(SOURCE_DIR, \"UDDanish\", 5)\n",
    "UDDanish_control, UDDanish_control_vocab, UDDanish_control_dimensions = load_diachronic_embeddings(SOURCE_DIR, \"UDDanish_control\", 5)"
   ]
  },
  {
   "cell_type": "code",
   "execution_count": null,
   "id": "efc57cef",
   "metadata": {},
   "outputs": [],
   "source": [
    "danmarksstednavne, danmarksstednavne_vocab, danmarksstednavne_dimensions = load_diachronic_embeddings(SOURCE_DIR, \"danmarksstednavne\", 11)\n",
    "danmarksstednavne_control, danmarksstednavne_control_vocab, danmarksstednavne_control_dimensions = load_diachronic_embeddings(SOURCE_DIR, \"danmarksstednavne_control\", 11)"
   ]
  },
  {
   "cell_type": "markdown",
   "id": "592d6ae0",
   "metadata": {},
   "source": [
    "## Analysis"
   ]
  },
  {
   "cell_type": "code",
   "execution_count": null,
   "id": "22824da7",
   "metadata": {},
   "outputs": [],
   "source": [
    "from scipy.spatial.distance import euclidean"
   ]
  },
  {
   "cell_type": "code",
   "execution_count": null,
   "id": "9594b388",
   "metadata": {},
   "outputs": [],
   "source": [
    "def distance(a, b, element_wise):\n",
    "    if element_wise: return a-b\n",
    "    else: return euclidean(a,b)\n"
   ]
  },
  {
   "cell_type": "code",
   "execution_count": null,
   "id": "bbeb863a",
   "metadata": {},
   "outputs": [],
   "source": [
    "def pairwise_distance(embedding_spaces, a, b, vocab, element_wise=False):\n",
    "    base = embedding_spaces[0]\n",
    "    a_i = vocab.index(a)\n",
    "    b_i = vocab.index(b)\n",
    "    \n",
    "    return [\n",
    "        distance(base[a_i], embedding_spaces[i][b_i], element_wise)\n",
    "            for i in range(0,len(embedding_spaces))\n",
    "    ]"
   ]
  },
  {
   "cell_type": "code",
   "execution_count": null,
   "id": "f249b4a7",
   "metadata": {},
   "outputs": [],
   "source": [
    "def results_csv(change, control, name):\n",
    "    with open(\"results/{}.csv\".format(name), \"w\") as f:\n",
    "        f.write(\",\".join([\"Distance\", \"Bin\", \"Corpus\"])+\"\\n\")\n",
    "        for row in list(zip(change, range(1, len(change)+1),[\"Change\",]*len(change)))+list(zip(control, range(1, len(control)+1),[\"Control\",]*len(control))):\n",
    "            print(row)\n",
    "            f.write(\",\".join([str(v) for v in row])+\"\\n\")\n",
    "    \n",
    "    "
   ]
  },
  {
   "cell_type": "markdown",
   "id": "118d7b26",
   "metadata": {},
   "source": [
    "### Parupa (p > b)"
   ]
  },
  {
   "cell_type": "code",
   "execution_count": null,
   "id": "cec2d99e",
   "metadata": {},
   "outputs": [],
   "source": [
    "change = pairwise_distance(parupa, \"p\", \"b\", parupa_vocab)\n",
    "change"
   ]
  },
  {
   "cell_type": "code",
   "execution_count": null,
   "id": "dc5b6aa9",
   "metadata": {},
   "outputs": [],
   "source": [
    "control = pairwise_distance(parupa_control, \"p\", \"b\", parupa_control_vocab)\n",
    "control"
   ]
  },
  {
   "cell_type": "code",
   "execution_count": null,
   "id": "2856251d",
   "metadata": {},
   "outputs": [],
   "source": [
    "results_csv(change, control, \"parupa\")"
   ]
  },
  {
   "cell_type": "markdown",
   "id": "04a60a4a",
   "metadata": {},
   "source": [
    "### UDDanish (g > k)"
   ]
  },
  {
   "cell_type": "code",
   "execution_count": null,
   "id": "f7db7835",
   "metadata": {},
   "outputs": [],
   "source": [
    "change = pairwise_distance(UDDanish, \"g\", \"k\", UDDanish_vocab)\n",
    "change"
   ]
  },
  {
   "cell_type": "code",
   "execution_count": null,
   "id": "157f8e51",
   "metadata": {},
   "outputs": [],
   "source": [
    "control = pairwise_distance(UDDanish_control, \"g\", \"k\", UDDanish_control_vocab)\n",
    "control"
   ]
  },
  {
   "cell_type": "code",
   "execution_count": null,
   "id": "f1b04ddc",
   "metadata": {},
   "outputs": [],
   "source": [
    "results_csv(change, control, \"UD-Da\")"
   ]
  },
  {
   "cell_type": "markdown",
   "id": "ead23af3",
   "metadata": {},
   "source": [
    "### Danmarks Stednavne (g > k)"
   ]
  },
  {
   "cell_type": "code",
   "execution_count": null,
   "id": "628d1cb8",
   "metadata": {},
   "outputs": [],
   "source": [
    "change = pairwise_distance(danmarksstednavne, \"k\", \"g\", danmarksstednavne_vocab)\n",
    "change"
   ]
  },
  {
   "cell_type": "code",
   "execution_count": null,
   "id": "ab68c48d",
   "metadata": {},
   "outputs": [],
   "source": [
    "control = pairwise_distance(danmarksstednavne_control, \"k\", \"g\", danmarksstednavne_control_vocab)\n",
    "control"
   ]
  },
  {
   "cell_type": "code",
   "execution_count": null,
   "id": "c2de6a8a",
   "metadata": {},
   "outputs": [],
   "source": [
    "results_csv(change, control, \"geo_k\")"
   ]
  },
  {
   "cell_type": "markdown",
   "id": "44b3e616",
   "metadata": {},
   "source": [
    "### Danmarks Stednavne (t > d)"
   ]
  },
  {
   "cell_type": "code",
   "execution_count": null,
   "id": "d82c0a12",
   "metadata": {},
   "outputs": [],
   "source": [
    "change = pairwise_distance(danmarksstednavne, \"t\", \"d\", danmarksstednavne_vocab)\n",
    "change"
   ]
  },
  {
   "cell_type": "code",
   "execution_count": null,
   "id": "a43065d2",
   "metadata": {},
   "outputs": [],
   "source": [
    "control = pairwise_distance(danmarksstednavne_control, \"t\", \"d\", danmarksstednavne_control_vocab)\n",
    "control"
   ]
  },
  {
   "cell_type": "code",
   "execution_count": null,
   "id": "a8c7eb55",
   "metadata": {},
   "outputs": [],
   "source": [
    "results_csv(change, control, \"geo_t\")"
   ]
  },
  {
   "cell_type": "markdown",
   "id": "930e101b",
   "metadata": {},
   "source": [
    "### Danmarks Stednavne (p>b)"
   ]
  },
  {
   "cell_type": "code",
   "execution_count": null,
   "id": "273dc279",
   "metadata": {},
   "outputs": [],
   "source": [
    "change = pairwise_distance(danmarksstednavne, \"p\", \"b\", danmarksstednavne_vocab)\n",
    "change"
   ]
  },
  {
   "cell_type": "code",
   "execution_count": null,
   "id": "d58a621b",
   "metadata": {},
   "outputs": [],
   "source": [
    "control = pairwise_distance(danmarksstednavne_control, \"p\", \"b\", danmarksstednavne_control_vocab)\n",
    "control"
   ]
  },
  {
   "cell_type": "code",
   "execution_count": null,
   "id": "40a6b87c",
   "metadata": {},
   "outputs": [],
   "source": [
    "results_csv(change, control, \"geo_p\")"
   ]
  },
  {
   "cell_type": "markdown",
   "id": "544cf51f",
   "metadata": {},
   "source": [
    "## Evaluating salient dimensions"
   ]
  },
  {
   "cell_type": "code",
   "execution_count": null,
   "id": "481cdadd",
   "metadata": {},
   "outputs": [],
   "source": [
    "from scipy.stats import linregress\n",
    "import numpy as np"
   ]
  },
  {
   "cell_type": "code",
   "execution_count": null,
   "id": "4874dff1",
   "metadata": {},
   "outputs": [],
   "source": [
    "def evaluate_dimensions(embedding_tables, a, b, vocab, dimensions):\n",
    "    pairwise_distances = pairwise_distance(embedding_tables, a, b, vocab, element_wise=True)\n",
    "    \n",
    "    out_dict = {}\n",
    "    for i, dimension in enumerate(dimensions):\n",
    "        distances = np.array(pairwise_distances)[:, i]\n",
    "        slope, _, r, p, _ = linregress(list(range(0,len(distances))), distances)\n",
    "        \n",
    "        out_dict[dimension] = {\"slope\":slope, \"r\":r, \"p\":p}\n",
    "        \n",
    "    filter_items = filter(lambda item: item[1][\"p\"]<0.05 and item[1][\"r\"]<-0.2, out_dict.items())\n",
    "    filter_items = filter(lambda item: embedding_tables[0][vocab.index(a)][dimensions.index(item[0])]>0, filter_items)\n",
    "    \n",
    "    sorted_items = sorted(list(filter_items), key=lambda item:item[1][\"slope\"])\n",
    "    \n",
    "    return sorted_items\n",
    "        "
   ]
  },
  {
   "cell_type": "code",
   "execution_count": null,
   "id": "9ccdad38",
   "metadata": {},
   "outputs": [],
   "source": [
    "evaluate_dimensions(parupa, \"p\", \"b\", parupa_vocab, parupa_dimensions)[0:5]"
   ]
  },
  {
   "cell_type": "code",
   "execution_count": null,
   "id": "a612f6cf",
   "metadata": {},
   "outputs": [],
   "source": [
    "evaluate_dimensions(UDDanish, \"g\", \"k\", UDDanish_vocab, UDDanish_dimensions)[0:5]"
   ]
  },
  {
   "cell_type": "code",
   "execution_count": null,
   "id": "1a6003b7",
   "metadata": {
    "scrolled": false
   },
   "outputs": [],
   "source": [
    "evaluate_dimensions(danmarksstednavne, \"k\", \"g\", danmarksstednavne_vocab, danmarksstednavne_dimensions)[0:10]"
   ]
  },
  {
   "cell_type": "code",
   "execution_count": null,
   "id": "dbb2d3ac",
   "metadata": {},
   "outputs": [],
   "source": []
  }
 ],
 "metadata": {
  "kernelspec": {
   "display_name": "Python 3 (ipykernel)",
   "language": "python",
   "name": "python3"
  },
  "language_info": {
   "codemirror_mode": {
    "name": "ipython",
    "version": 3
   },
   "file_extension": ".py",
   "mimetype": "text/x-python",
   "name": "python",
   "nbconvert_exporter": "python",
   "pygments_lexer": "ipython3",
   "version": "3.9.7"
  }
 },
 "nbformat": 4,
 "nbformat_minor": 5
}
